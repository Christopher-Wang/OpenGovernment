{
 "cells": [
  {
   "cell_type": "markdown",
   "metadata": {},
   "source": [
    "# Oilsands analysis - Wildfish health\n",
    "\n",
    "An exploratory analysis of Environment Canada's Open Government Data about the environmental trends within the Oilsands of Alberta."
   ]
  },
  {
   "cell_type": "code",
   "execution_count": 77,
   "metadata": {},
   "outputs": [],
   "source": [
    "import os\n",
    "import pandas as pd\n",
    "import numpy as np"
   ]
  },
  {
   "cell_type": "code",
   "execution_count": 72,
   "metadata": {},
   "outputs": [],
   "source": [
    "#Get all path pertaining to Wildish health\n",
    "data_dir = 'data/OilSands/WildFishHealth/'\n",
    "paths = os.listdir(data_dir)"
   ]
  },
  {
   "cell_type": "markdown",
   "metadata": {},
   "source": [
    "#### Perform data exploration  on the Longnose Dace"
   ]
  },
  {
   "cell_type": "code",
   "execution_count": 87,
   "metadata": {},
   "outputs": [],
   "source": [
    "#Clean the data\n",
    "df = pd.read_csv(data_dir + paths[0], skiprows=25, index_col=26)\n",
    "df = df.iloc[:-1]\n",
    "df.index = np.arange(len(df))\n",
    "df = df.loc[:, ~df.columns.str.contains('^Unnamed')]\n"
   ]
  },
  {
   "cell_type": "code",
   "execution_count": 90,
   "metadata": {},
   "outputs": [
    {
     "data": {
      "text/plain": [
       "<bound method Series.unique of 0      MacKay River\n",
       "1      MacKay River\n",
       "2      MacKay River\n",
       "3      MacKay River\n",
       "4      MacKay River\n",
       "5      MacKay River\n",
       "6      MacKay River\n",
       "7      MacKay River\n",
       "8      MacKay River\n",
       "9      MacKay River\n",
       "10     MacKay River\n",
       "11     MacKay River\n",
       "12     MacKay River\n",
       "13     MacKay River\n",
       "14     MacKay River\n",
       "15     MacKay River\n",
       "16     MacKay River\n",
       "17     MacKay River\n",
       "18     MacKay River\n",
       "19     MacKay River\n",
       "20     MacKay River\n",
       "21     MacKay River\n",
       "22     MacKay River\n",
       "23     MacKay River\n",
       "24     MacKay River\n",
       "25     MacKay River\n",
       "26     MacKay River\n",
       "27     MacKay River\n",
       "28     MacKay River\n",
       "29     MacKay River\n",
       "           ...     \n",
       "89     MacKay River\n",
       "90     MacKay River\n",
       "91     MacKay River\n",
       "92     MacKay River\n",
       "93     MacKay River\n",
       "94     MacKay River\n",
       "95     MacKay River\n",
       "96     MacKay River\n",
       "97     MacKay River\n",
       "98     MacKay River\n",
       "99     MacKay River\n",
       "100    MacKay River\n",
       "101    MacKay River\n",
       "102    MacKay River\n",
       "103    MacKay River\n",
       "104    MacKay River\n",
       "105    MacKay River\n",
       "106    MacKay River\n",
       "107    MacKay River\n",
       "108    MacKay River\n",
       "109    MacKay River\n",
       "110    MacKay River\n",
       "111    MacKay River\n",
       "112    MacKay River\n",
       "113    MacKay River\n",
       "114    MacKay River\n",
       "115    MacKay River\n",
       "116    MacKay River\n",
       "117    MacKay River\n",
       "118    MacKay River\n",
       "Name: Waterbody Name, Length: 119, dtype: object>"
      ]
     },
     "execution_count": 90,
     "metadata": {},
     "output_type": "execute_result"
    }
   ],
   "source": [
    "df['Waterbody Name'].unique"
   ]
  }
 ],
 "metadata": {
  "kernelspec": {
   "display_name": "Python 3",
   "language": "python",
   "name": "python3"
  },
  "language_info": {
   "codemirror_mode": {
    "name": "ipython",
    "version": 3
   },
   "file_extension": ".py",
   "mimetype": "text/x-python",
   "name": "python",
   "nbconvert_exporter": "python",
   "pygments_lexer": "ipython3",
   "version": "3.6.3"
  }
 },
 "nbformat": 4,
 "nbformat_minor": 2
}
